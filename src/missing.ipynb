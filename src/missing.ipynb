{
 "cells": [
  {
   "cell_type": "code",
   "execution_count": 2,
   "metadata": {},
   "outputs": [],
   "source": [
    "import pandas as pd\n",
    "import re\n",
    "from datetime import date"
   ]
  },
  {
   "cell_type": "code",
   "execution_count": 3,
   "metadata": {},
   "outputs": [],
   "source": [
    "steam = pd.read_csv(\"../data/updated_steam_games.csv\")\n"
   ]
  },
  {
   "cell_type": "code",
   "execution_count": 16,
   "metadata": {},
   "outputs": [
    {
     "name": "stdout",
     "output_type": "stream",
     "text": [
      "peak_ccu                 0\n",
      "price                    0\n",
      "tags                     0\n",
      "appid                    0\n",
      "price                    0\n",
      "dlc_count                0\n",
      "discount                 0\n",
      "num_reviews_total    89112\n",
      "pct_pos_total            0\n",
      "dtype: int64\n"
     ]
    }
   ],
   "source": [
    "important_cols = ['peak_ccu','price','tags','appid','price','dlc_count','discount','num_reviews_total','pct_pos_total']\n",
    "print(steam[important_cols].isna().sum())"
   ]
  },
  {
   "cell_type": "code",
   "execution_count": null,
   "metadata": {},
   "outputs": [],
   "source": []
  }
 ],
 "metadata": {
  "kernelspec": {
   "display_name": "base",
   "language": "python",
   "name": "python3"
  },
  "language_info": {
   "codemirror_mode": {
    "name": "ipython",
    "version": 3
   },
   "file_extension": ".py",
   "mimetype": "text/x-python",
   "name": "python",
   "nbconvert_exporter": "python",
   "pygments_lexer": "ipython3",
   "version": "3.12.8"
  }
 },
 "nbformat": 4,
 "nbformat_minor": 2
}
