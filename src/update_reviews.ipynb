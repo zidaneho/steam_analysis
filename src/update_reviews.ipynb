{
 "cells": [
  {
   "cell_type": "code",
   "execution_count": 5,
   "metadata": {},
   "outputs": [
    {
     "name": "stdout",
     "output_type": "stream",
     "text": [
      "Processing the full set of 53199 games.\n",
      "Starting to fetch reviews for 53199 games...\n"
     ]
    },
    {
     "name": "stderr",
     "output_type": "stream",
     "text": [
      "Fetching reviews:   1%|          | 401/53199 [01:46<3:53:42,  3.77it/s] \n"
     ]
    },
    {
     "ename": "CancelledError",
     "evalue": "",
     "output_type": "error",
     "traceback": [
      "\u001b[31m---------------------------------------------------------------------------\u001b[39m",
      "\u001b[31mCancelledError\u001b[39m                            Traceback (most recent call last)",
      "\u001b[36mCell\u001b[39m\u001b[36m \u001b[39m\u001b[32mIn[5]\u001b[39m\u001b[32m, line 57\u001b[39m\n\u001b[32m     54\u001b[39m \u001b[38;5;28mprint\u001b[39m(\u001b[33mf\u001b[39m\u001b[33m\"\u001b[39m\u001b[33mProcessing the full set of \u001b[39m\u001b[38;5;132;01m{\u001b[39;00m\u001b[38;5;28mlen\u001b[39m(sorted_steam_df)\u001b[38;5;132;01m}\u001b[39;00m\u001b[33m games.\u001b[39m\u001b[33m\"\u001b[39m)\n\u001b[32m     56\u001b[39m \u001b[38;5;66;03m# 3. Run the asynchronous process to fetch the review content for all games\u001b[39;00m\n\u001b[32m---> \u001b[39m\u001b[32m57\u001b[39m all_reviews_data = \u001b[38;5;28;01mawait\u001b[39;00m fetch_all_reviews(apps_to_fetch)\n\u001b[32m     59\u001b[39m \u001b[38;5;66;03m# 4. Create the final DataFrame from the list of all fetched reviews\u001b[39;00m\n\u001b[32m     60\u001b[39m final_df = pd.DataFrame(all_reviews_data)\n",
      "\u001b[36mCell\u001b[39m\u001b[36m \u001b[39m\u001b[32mIn[5]\u001b[39m\u001b[32m, line 41\u001b[39m, in \u001b[36mfetch_all_reviews\u001b[39m\u001b[34m(apps_to_fetch)\u001b[39m\n\u001b[32m     38\u001b[39m tasks = [fetch_reviews_for_app(session, app_id, name) \u001b[38;5;28;01mfor\u001b[39;00m app_id, name \u001b[38;5;129;01min\u001b[39;00m apps_to_fetch]\n\u001b[32m     40\u001b[39m \u001b[38;5;66;03m# This will return a list of lists\u001b[39;00m\n\u001b[32m---> \u001b[39m\u001b[32m41\u001b[39m results_list_of_lists = \u001b[38;5;28;01mawait\u001b[39;00m tqdm.gather(*tasks, desc=\u001b[33m\"\u001b[39m\u001b[33mFetching reviews\u001b[39m\u001b[33m\"\u001b[39m)\n\u001b[32m     43\u001b[39m \u001b[38;5;28mprint\u001b[39m(\u001b[33m\"\u001b[39m\u001b[33mFinished fetching all reviews. Flattening results...\u001b[39m\u001b[33m\"\u001b[39m)\n\u001b[32m     45\u001b[39m \u001b[38;5;66;03m# Flatten the list of lists into a single list of review dictionaries\u001b[39;00m\n",
      "\u001b[36mFile \u001b[39m\u001b[32m~/miniforge3/lib/python3.12/site-packages/tqdm/asyncio.py:79\u001b[39m, in \u001b[36mtqdm_asyncio.gather\u001b[39m\u001b[34m(cls, loop, timeout, total, *fs, **tqdm_kwargs)\u001b[39m\n\u001b[32m     76\u001b[39m     \u001b[38;5;28;01mreturn\u001b[39;00m i, \u001b[38;5;28;01mawait\u001b[39;00m f\n\u001b[32m     78\u001b[39m ifs = [wrap_awaitable(i, f) \u001b[38;5;28;01mfor\u001b[39;00m i, f \u001b[38;5;129;01min\u001b[39;00m \u001b[38;5;28menumerate\u001b[39m(fs)]\n\u001b[32m---> \u001b[39m\u001b[32m79\u001b[39m res = [\u001b[38;5;28;01mawait\u001b[39;00m f \u001b[38;5;28;01mfor\u001b[39;00m f \u001b[38;5;129;01min\u001b[39;00m \u001b[38;5;28mcls\u001b[39m.as_completed(ifs, loop=loop, timeout=timeout,\n\u001b[32m     80\u001b[39m                                          total=total, **tqdm_kwargs)]\n\u001b[32m     81\u001b[39m \u001b[38;5;28;01mreturn\u001b[39;00m [i \u001b[38;5;28;01mfor\u001b[39;00m _, i \u001b[38;5;129;01min\u001b[39;00m \u001b[38;5;28msorted\u001b[39m(res)]\n",
      "\u001b[36mFile \u001b[39m\u001b[32m~/miniforge3/lib/python3.12/asyncio/tasks.py:627\u001b[39m, in \u001b[36mas_completed.<locals>._wait_for_one\u001b[39m\u001b[34m()\u001b[39m\n\u001b[32m    626\u001b[39m \u001b[38;5;28;01masync\u001b[39;00m \u001b[38;5;28;01mdef\u001b[39;00m\u001b[38;5;250m \u001b[39m\u001b[34m_wait_for_one\u001b[39m():\n\u001b[32m--> \u001b[39m\u001b[32m627\u001b[39m     f = \u001b[38;5;28;01mawait\u001b[39;00m done.get()\n\u001b[32m    628\u001b[39m     \u001b[38;5;28;01mif\u001b[39;00m f \u001b[38;5;129;01mis\u001b[39;00m \u001b[38;5;28;01mNone\u001b[39;00m:\n\u001b[32m    629\u001b[39m         \u001b[38;5;66;03m# Dummy value from _on_timeout().\u001b[39;00m\n\u001b[32m    630\u001b[39m         \u001b[38;5;28;01mraise\u001b[39;00m exceptions.TimeoutError\n",
      "\u001b[36mFile \u001b[39m\u001b[32m~/miniforge3/lib/python3.12/asyncio/queues.py:158\u001b[39m, in \u001b[36mQueue.get\u001b[39m\u001b[34m(self)\u001b[39m\n\u001b[32m    156\u001b[39m \u001b[38;5;28mself\u001b[39m._getters.append(getter)\n\u001b[32m    157\u001b[39m \u001b[38;5;28;01mtry\u001b[39;00m:\n\u001b[32m--> \u001b[39m\u001b[32m158\u001b[39m     \u001b[38;5;28;01mawait\u001b[39;00m getter\n\u001b[32m    159\u001b[39m \u001b[38;5;28;01mexcept\u001b[39;00m:\n\u001b[32m    160\u001b[39m     getter.cancel()  \u001b[38;5;66;03m# Just in case getter is not done yet.\u001b[39;00m\n",
      "\u001b[31mCancelledError\u001b[39m: "
     ]
    }
   ],
   "source": [
    "import pandas as pd\n",
    "import asyncio\n",
    "import aiohttp\n",
    "import os\n",
    "from tqdm.asyncio import tqdm\n",
    "\n",
    "# Load the original DataFrame\n",
    "steam = pd.read_csv('../data/steam_games.csv')\n",
    "steam = steam[steam['pct_pos_total'] > -1]\n",
    "\n",
    "# --- CHANGES START HERE ---\n",
    "\n",
    "async def fetch_reviews_for_app(session, app_id, name):\n",
    "    \"\"\"Asynchronously fetches a page of reviews for a single app_id.\"\"\"\n",
    "    url = f\"https://store.steampowered.com/appreviews/{app_id}?json=1&filter=recent&language=english\"\n",
    "    reviews_list = []\n",
    "    try:\n",
    "        async with session.get(url) as response:\n",
    "            response.raise_for_status()\n",
    "            data = await response.json()\n",
    "            if data.get(\"success\") == 1 and \"reviews\" in data:\n",
    "                for review_data in data[\"reviews\"]:\n",
    "                    reviews_list.append({\n",
    "                        \"appid\": app_id,\n",
    "                        \"name\": name,\n",
    "                        \"review_text\": review_data.get(\"review\", \"\"),\n",
    "                        \"recommended\": review_data.get(\"voted_up\", False)\n",
    "                    })\n",
    "            return reviews_list\n",
    "    except Exception:\n",
    "        # Return an empty list on error to avoid breaking the process\n",
    "        return []\n",
    "\n",
    "async def fetch_all_reviews(apps_to_fetch):\n",
    "    \"\"\"Creates and runs all asynchronous tasks for fetching review content.\"\"\"\n",
    "    print(f\"Starting to fetch reviews for {len(apps_to_fetch)} games...\")\n",
    "    async with aiohttp.ClientSession() as session:\n",
    "        tasks = [fetch_reviews_for_app(session, app_id, name) for app_id, name in apps_to_fetch]\n",
    "        \n",
    "        # This will return a list of lists\n",
    "        results_list_of_lists = await tqdm.gather(*tasks, desc=\"Fetching reviews\")\n",
    "        \n",
    "        print(\"Finished fetching all reviews. Flattening results...\")\n",
    "        \n",
    "        # Flatten the list of lists into a single list of review dictionaries\n",
    "        all_reviews = [review for sublist in results_list_of_lists for review in sublist]\n",
    "        return all_reviews\n",
    "\n",
    "# 1. Create a new DataFrame sorted by 'name' and then 'appid'\n",
    "sorted_steam_df = steam.sort_values(by=['name', 'appid']).copy()\n",
    "\n",
    "# 2. Get a list of (appid, name) tuples to process\n",
    "apps_to_fetch = list(sorted_steam_df[['appid', 'name']].itertuples(index=False, name=None))\n",
    "print(f\"Processing the full set of {len(sorted_steam_df)} games.\")\n",
    "\n",
    "# 3. Run the asynchronous process to fetch the review content for all games\n",
    "all_reviews_data = await fetch_all_reviews(apps_to_fetch)\n",
    "\n",
    "# 4. Create the final DataFrame from the list of all fetched reviews\n",
    "final_df = pd.DataFrame(all_reviews_data)\n",
    "\n",
    "# 5. Define the directory and ensure it exists\n",
    "output_dir = '../data'\n",
    "os.makedirs(output_dir, exist_ok=True)\n",
    "\n",
    "# 6. Define the full file path for the new reviews file\n",
    "file_path = os.path.join(output_dir, 'steam_review_content.csv')\n",
    "\n",
    "# 7. Export the final DataFrame to the new CSV file\n",
    "final_df.to_csv(file_path, index=False)\n",
    "\n",
    "# --- CHANGES END HERE ---\n",
    "\n",
    "print(f\"Final DataFrame with review content successfully saved to {file_path}\")\n",
    "\n",
    "# You can display the head of the new DataFrame to verify\n",
    "print(f\"\\n--- First 5 rows of the new final ({len(final_df)} total reviews) DataFrame ---\")\n",
    "print(final_df.head())"
   ]
  }
 ],
 "metadata": {
  "kernelspec": {
   "display_name": "base",
   "language": "python",
   "name": "python3"
  },
  "language_info": {
   "codemirror_mode": {
    "name": "ipython",
    "version": 3
   },
   "file_extension": ".py",
   "mimetype": "text/x-python",
   "name": "python",
   "nbconvert_exporter": "python",
   "pygments_lexer": "ipython3",
   "version": "3.12.8"
  }
 },
 "nbformat": 4,
 "nbformat_minor": 2
}
