{
 "cells": [
  {
   "cell_type": "markdown",
   "metadata": {},
   "source": [
    "# Steam Analysis\n",
    "\n",
    "**Name(s)**: Zidane Ho\n",
    "\n",
    "**Website Link**: (your website link)"
   ]
  },
  {
   "cell_type": "code",
   "execution_count": null,
   "metadata": {
    "ExecuteTime": {
     "end_time": "2019-10-31T23:36:28.652554Z",
     "start_time": "2019-10-31T23:36:27.180520Z"
    }
   },
   "outputs": [],
   "source": [
    "import pandas as pd\n",
    "import numpy as np\n",
    "from pathlib import Path\n",
    "\n",
    "import plotly.express as px\n",
    "pd.options.plotting.backend = 'plotly'\n",
    "\n",
    "from clean_data import *\n",
    "\n"
   ]
  },
  {
   "cell_type": "markdown",
   "metadata": {},
   "source": [
    "## Step 1: Introduction"
   ]
  },
  {
   "cell_type": "code",
   "execution_count": null,
   "metadata": {},
   "outputs": [
    {
     "ename": "NameError",
     "evalue": "name 'steam_data_path' is not defined",
     "output_type": "error",
     "traceback": [
      "\u001b[0;31m---------------------------------------------------------------------------\u001b[0m",
      "\u001b[0;31mNameError\u001b[0m                                 Traceback (most recent call last)",
      "Cell \u001b[0;32mIn[2], line 7\u001b[0m\n\u001b[1;32m      2\u001b[0m \u001b[38;5;124;03m'''\u001b[39;00m\n\u001b[1;32m      3\u001b[0m \u001b[38;5;124;03mIn game development, controversial games can be both a positive and negative outcome for developers. On one side, a controversial game is widespread across the Internet, resulting in a greater revenue. On the other hand, a controversial game can be a negative impact in the long run, especially for large studios, because gamers will not think their product is worth playing anymore. It is helpful for developers to identify common features in a controversial game, so they can make better decisions for their game. We will define controversial games to be games on Steam that have negative (0-40%) or mixed reviews (40-69%). We will be using the Steam Games Dataset 2025.\u001b[39;00m\n\u001b[1;32m      4\u001b[0m \n\u001b[1;32m      5\u001b[0m \u001b[38;5;124;03m'''\u001b[39;00m\n\u001b[1;32m      6\u001b[0m \u001b[38;5;28;01mimport\u001b[39;00m\u001b[38;5;250m \u001b[39m\u001b[38;5;21;01mpandas\u001b[39;00m\u001b[38;5;250m \u001b[39m\u001b[38;5;28;01mas\u001b[39;00m\u001b[38;5;250m \u001b[39m\u001b[38;5;21;01mpd\u001b[39;00m\n\u001b[0;32m----> 7\u001b[0m df \u001b[38;5;241m=\u001b[39m pd\u001b[38;5;241m.\u001b[39mread_csv(\u001b[43msteam_data_path\u001b[49m)\n\u001b[1;32m      8\u001b[0m df\u001b[38;5;241m.\u001b[39mshape\n",
      "\u001b[0;31mNameError\u001b[0m: name 'steam_data_path' is not defined"
     ]
    }
   ],
   "source": [
    "# Question: What makes a game controversial on Steam?\n",
    "'''\n",
    "In game development, controversial games can be both a positive and negative outcome for developers. On one side, a controversial game is widespread across the Internet, resulting in a greater revenue. On the other hand, a controversial game can be a negative impact in the long run, especially for large studios, because gamers will not think their product is worth playing anymore. This project aims to identify common features in a controversial game, so they can make better decisions when developing their game. We will define controversial games to be games on Steam that have negative (0-40%) or mixed reviews (40-69%). We will be using the Steam Games Dataset 2025.\n",
    "\n",
    "Steam is the largest platform that distributes games on PC, developed by Valve. Similarly to a library, customers can search and purchase a game through different genres, authors, or title. Customers may also leave a review for the game, recommending the game (or not) to others. The dataset is updated to March 2025, containing 89618 rows.\n",
    "\n",
    "After determining games with a mixed or negative review on Steam, I scraped https://store.steampowered.com/ for reviews.\n",
    "\n",
    "Relevant Columns\n",
    "- appid\n",
    "- game_title\n",
    "- tags\n",
    "- positive\n",
    "- negative\n",
    "- user_score\n",
    "\n",
    "- review_text\n",
    "\n",
    "-criticism_tags\n",
    "\n",
    "\n",
    "'''\n"
   ]
  },
  {
   "cell_type": "markdown",
   "metadata": {},
   "source": [
    "## Step 2: Data Cleaning and Exploratory Data Analysis"
   ]
  },
  {
   "cell_type": "code",
   "execution_count": null,
   "metadata": {
    "ExecuteTime": {
     "end_time": "2019-10-31T23:36:28.657068Z",
     "start_time": "2019-10-31T23:36:28.654650Z"
    }
   },
   "outputs": [],
   "source": [
    "'''\n",
    "In order to transform the data to be analyzed, I began by containing only the relevant columns: appid, game_title, tags, positive, and negative.\n",
    "\n",
    "I replaced the column with NaN values: user_score, that represents the proportion of positive reviews of a game. I calculated this value by dividing the positive column by the sum of the positive and negative columns.\n",
    "\n",
    "I exploded the tags column so that the multiple genres that exist in a game can be represented.\n",
    "\n",
    "Univariate Analysis:\n",
    "\n",
    "I conducted a univariate analysis on the distribution of all Steam games released within the dataset. The bar chart reveals a unimodal, left-skewed distribution. The mean is 2019.53, the median is 2020, and the mode is 2020. \n",
    "\n",
    "The large growth from 2010-2020 suggests the growing trend of game development. This is largely due to game development becoming more accessible to the average person, with the release of game engines (Unity, Unreal Engine) and a growing library of assets.\n",
    "\n",
    "The distribution shows a singular peak at 2020, revealing that games were released at an all time in 2020. This can be explained as a consequence of COVID-19, as people became more active on the Internet during this time.\n",
    "\n",
    "The number of games in 2025 is misleading because the dataset is updated to March 2025. This means that there are still many games to be released throughout the year. With the continuing trend of games becoming easier to develop, we can expect that the number of games being released will increase.\n",
    "\n",
    "Additionally, I conducted an analysis on the distribution of the types of criticism found in 10% of all controversial Steam games.  The bar chart revealed a unimodal, right-skewed distribution. Using the median, a criticism type is typically mentioned 3292 times.\n",
    "\n",
    "We can see that 'stability' is the most common criticism in reviews. This suggests that players often go to review because they experience freezes, crashes, or bugs within the game. 'Content' is the next most common criticism, suggesting that the game lacks updates, is boring, or repetitive.\n",
    "\n",
    "Observe that the 'politics' column is one of the least common types of criticism. This means that reviewers often do not include their bias on sensitive topics such as 'woke' or 'gender.'\n",
    "\n",
    "Bivariate Analysis\n",
    "\n",
    "I performed a bivariate analysis on the relationship between genres and the types of criticism in reviews. \n",
    "'''\n"
   ]
  },
  {
   "cell_type": "markdown",
   "metadata": {},
   "source": [
    "## Step 3: Assessment of Missingness"
   ]
  },
  {
   "cell_type": "code",
   "execution_count": 11,
   "metadata": {
    "ExecuteTime": {
     "end_time": "2019-10-31T23:36:28.662099Z",
     "start_time": "2019-10-31T23:36:28.660016Z"
    }
   },
   "outputs": [
    {
     "name": "stdout",
     "output_type": "stream",
     "text": [
      "appid is of type <class 'str'>\n",
      "name is of type <class 'str'>\n",
      "release_date is of type <class 'str'>\n",
      "required_age is of type <class 'str'>\n",
      "price is of type <class 'str'>\n",
      "dlc_count is of type <class 'str'>\n",
      "detailed_description is of type <class 'str'>\n",
      "about_the_game is of type <class 'str'>\n",
      "short_description is of type <class 'str'>\n",
      "reviews is of type <class 'str'>\n",
      "header_image is of type <class 'str'>\n",
      "website is of type <class 'str'>\n",
      "support_url is of type <class 'str'>\n",
      "support_email is of type <class 'str'>\n",
      "windows is of type <class 'str'>\n",
      "mac is of type <class 'str'>\n",
      "linux is of type <class 'str'>\n",
      "metacritic_score is of type <class 'str'>\n",
      "metacritic_url is of type <class 'str'>\n",
      "achievements is of type <class 'str'>\n",
      "recommendations is of type <class 'str'>\n",
      "notes is of type <class 'str'>\n",
      "supported_languages is of type <class 'str'>\n",
      "full_audio_languages is of type <class 'str'>\n",
      "packages is of type <class 'str'>\n",
      "developers is of type <class 'str'>\n",
      "publishers is of type <class 'str'>\n",
      "categories is of type <class 'str'>\n",
      "genres is of type <class 'str'>\n",
      "screenshots is of type <class 'str'>\n",
      "movies is of type <class 'str'>\n",
      "user_score is of type <class 'str'>\n",
      "score_rank is of type <class 'str'>\n",
      "positive is of type <class 'str'>\n",
      "negative is of type <class 'str'>\n",
      "estimated_owners is of type <class 'str'>\n",
      "average_playtime_forever is of type <class 'str'>\n",
      "average_playtime_2weeks is of type <class 'str'>\n",
      "median_playtime_forever is of type <class 'str'>\n",
      "median_playtime_2weeks is of type <class 'str'>\n",
      "discount is of type <class 'str'>\n",
      "peak_ccu is of type <class 'str'>\n",
      "tags is of type <class 'str'>\n",
      "pct_pos_total is of type <class 'str'>\n",
      "num_reviews_total is of type <class 'str'>\n",
      "pct_pos_recent is of type <class 'str'>\n",
      "num_reviews_recent is of type <class 'str'>\n",
      "['Single-player', 'Multi-player', 'Co-op', 'Shared/Split Screen Co-op', 'Shared/Split Screen', 'Steam Achievements', 'Full controller support', 'Steam Trading Cards', 'Steam Workshop', 'Steam Cloud', 'Remote Play on TV', 'Remote Play Together', 'Family Sharing']\n",
      "nan\n",
      "0\n"
     ]
    }
   ],
   "source": [
    "import pandas as pd\n",
    "df = pd.read_csv('data/games_march2025_cleaned.csv')\n",
    "for column in df.columns:\n",
    "    print(column,'is of type',type(column))\n",
    "print(df['categories'][200])\n",
    "print(df['score_rank'][200])\n",
    "print(df['user_score'][200])"
   ]
  },
  {
   "cell_type": "markdown",
   "metadata": {},
   "source": [
    "## Step 4: Hypothesis Testing"
   ]
  },
  {
   "cell_type": "code",
   "execution_count": null,
   "metadata": {
    "ExecuteTime": {
     "end_time": "2019-10-31T23:36:28.666489Z",
     "start_time": "2019-10-31T23:36:28.664381Z"
    }
   },
   "outputs": [],
   "source": [
    "'''\n",
    "Null Hypothesis: All genres have equal success rates (all genres have the same proportion of games exceeding $50K revenue)\n",
    "Alternate Hypothesis: At least one genre has a different success rate.\n",
    "Test Statistic: Chi-Square Test for Independence\n",
    "Significance Level : 0.05\n",
    "\n",
    "Success = Estimated Revenue >= $50,000\n",
    "Success Rate = % of games in a genre that meet this threshold\n",
    "'''"
   ]
  },
  {
   "cell_type": "markdown",
   "metadata": {},
   "source": [
    "## Step 5: Framing a Prediction Problem"
   ]
  },
  {
   "cell_type": "code",
   "execution_count": null,
   "metadata": {
    "ExecuteTime": {
     "end_time": "2019-10-31T23:36:28.657068Z",
     "start_time": "2019-10-31T23:36:28.654650Z"
    }
   },
   "outputs": [],
   "source": [
    "# TODO"
   ]
  },
  {
   "cell_type": "markdown",
   "metadata": {},
   "source": [
    "## Step 6: Baseline Model"
   ]
  },
  {
   "cell_type": "code",
   "execution_count": null,
   "metadata": {
    "ExecuteTime": {
     "end_time": "2019-10-31T23:36:28.662099Z",
     "start_time": "2019-10-31T23:36:28.660016Z"
    }
   },
   "outputs": [],
   "source": [
    "# TODO"
   ]
  },
  {
   "cell_type": "markdown",
   "metadata": {},
   "source": [
    "## Step 7: Final Model"
   ]
  },
  {
   "cell_type": "code",
   "execution_count": null,
   "metadata": {
    "ExecuteTime": {
     "end_time": "2019-10-31T23:36:28.662099Z",
     "start_time": "2019-10-31T23:36:28.660016Z"
    }
   },
   "outputs": [],
   "source": [
    "# TODO"
   ]
  },
  {
   "cell_type": "markdown",
   "metadata": {},
   "source": [
    "## Step 8: Fairness Analysis"
   ]
  },
  {
   "cell_type": "code",
   "execution_count": null,
   "metadata": {
    "ExecuteTime": {
     "end_time": "2019-10-31T23:36:28.666489Z",
     "start_time": "2019-10-31T23:36:28.664381Z"
    }
   },
   "outputs": [],
   "source": [
    "# TODO"
   ]
  }
 ],
 "metadata": {
  "kernelspec": {
   "display_name": "dsc80",
   "language": "python",
   "name": "python3"
  },
  "language_info": {
   "codemirror_mode": {
    "name": "ipython",
    "version": 3
   },
   "file_extension": ".py",
   "mimetype": "text/x-python",
   "name": "python",
   "nbconvert_exporter": "python",
   "pygments_lexer": "ipython3",
   "version": "3.12.8"
  }
 },
 "nbformat": 4,
 "nbformat_minor": 2
}
