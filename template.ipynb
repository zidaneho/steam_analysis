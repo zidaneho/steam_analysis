{
 "cells": [
  {
   "cell_type": "markdown",
   "metadata": {},
   "source": [
    "# Steam Analysis\n",
    "\n",
    "**Name(s)**: Zidane Ho\n",
    "\n",
    "**Website Link**: (your website link)\n",
    "\n",
    "**Abstract**: "
   ]
  },
  {
   "cell_type": "code",
   "execution_count": null,
   "metadata": {
    "ExecuteTime": {
     "end_time": "2019-10-31T23:36:28.652554Z",
     "start_time": "2019-10-31T23:36:27.180520Z"
    }
   },
   "outputs": [],
   "source": [
    "\n",
    "\n"
   ]
  },
  {
   "cell_type": "markdown",
   "metadata": {},
   "source": [
    "## Step 1: Introduction"
   ]
  },
  {
   "cell_type": "code",
   "execution_count": null,
   "metadata": {},
   "outputs": [
    {
     "ename": "NameError",
     "evalue": "name 'steam_data_path' is not defined",
     "output_type": "error",
     "traceback": [
      "\u001b[0;31m---------------------------------------------------------------------------\u001b[0m",
      "\u001b[0;31mNameError\u001b[0m                                 Traceback (most recent call last)",
      "Cell \u001b[0;32mIn[2], line 7\u001b[0m\n\u001b[1;32m      2\u001b[0m \u001b[38;5;124;03m'''\u001b[39;00m\n\u001b[1;32m      3\u001b[0m \u001b[38;5;124;03mIn game development, controversial games can be both a positive and negative outcome for developers. On one side, a controversial game is widespread across the Internet, resulting in a greater revenue. On the other hand, a controversial game can be a negative impact in the long run, especially for large studios, because gamers will not think their product is worth playing anymore. It is helpful for developers to identify common features in a controversial game, so they can make better decisions for their game. We will define controversial games to be games on Steam that have negative (0-40%) or mixed reviews (40-69%). We will be using the Steam Games Dataset 2025.\u001b[39;00m\n\u001b[1;32m      4\u001b[0m \n\u001b[1;32m      5\u001b[0m \u001b[38;5;124;03m'''\u001b[39;00m\n\u001b[1;32m      6\u001b[0m \u001b[38;5;28;01mimport\u001b[39;00m\u001b[38;5;250m \u001b[39m\u001b[38;5;21;01mpandas\u001b[39;00m\u001b[38;5;250m \u001b[39m\u001b[38;5;28;01mas\u001b[39;00m\u001b[38;5;250m \u001b[39m\u001b[38;5;21;01mpd\u001b[39;00m\n\u001b[0;32m----> 7\u001b[0m df \u001b[38;5;241m=\u001b[39m pd\u001b[38;5;241m.\u001b[39mread_csv(\u001b[43msteam_data_path\u001b[49m)\n\u001b[1;32m      8\u001b[0m df\u001b[38;5;241m.\u001b[39mshape\n",
      "\u001b[0;31mNameError\u001b[0m: name 'steam_data_path' is not defined"
     ]
    }
   ],
   "source": [
    "# Question: What makes a game controversial on Steam?\n",
    "'''\n",
    "In game development, controversial games can be both a positive and negative outcome for developers. On one side, a controversial game is widespread across the Internet, resulting in a greater revenue. On the other hand, a controversial game can be a negative impact in the long run, especially for large studios, because gamers will not think their product is worth playing anymore. This project aims to identify common features in a controversial game, so they can make better decisions when developing their game. We will define controversial games to be games on Steam that have negative (0-40%) or mixed reviews (40-69%). We will be using the Steam Games Dataset 2025.\n",
    "\n",
    "Steam is the largest platform that distributes games on PC, developed by Valve. Similarly to a library, customers can search and purchase a game through different genres, authors, or title. Customers may also leave a review for the game, recommending the game (or not) to others. The dataset is updated to March 2025, containing 89618 rows.\n",
    "\n",
    "After determining games with a mixed or negative review on Steam, I scraped https://store.steampowered.com/ for reviews.\n",
    "\n",
    "Relevant Columns\n",
    "- appid\n",
    "- game_title\n",
    "- tags\n",
    "- positive\n",
    "- negative\n",
    "- user_score\n",
    "\n",
    "- review_text\n",
    "\n",
    "-criticism_tags\n",
    "\n",
    "\n",
    "'''\n"
   ]
  },
  {
   "cell_type": "markdown",
   "metadata": {},
   "source": [
    "## Step 2: Data Cleaning and Exploratory Data Analysis"
   ]
  },
  {
   "cell_type": "code",
   "execution_count": null,
   "metadata": {
    "ExecuteTime": {
     "end_time": "2019-10-31T23:36:28.657068Z",
     "start_time": "2019-10-31T23:36:28.654650Z"
    }
   },
   "outputs": [],
   "source": [
    "'''\n",
    "In order to transform the data to be analyzed, I began by containing only the relevant columns: appid, game_title, tags, positive, and negative.\n",
    "\n",
    "I replaced the column with NaN values: user_score, that represents the proportion of positive reviews of a game. I calculated this value by dividing the positive column by the sum of the positive and negative columns.\n",
    "\n",
    "I exploded the tags column so that the multiple genres that exist in a game can be represented.\n",
    "\n",
    "Univariate Analysis:\n",
    "\n",
    "I conducted a univariate analysis on the distribution of all Steam games released within the dataset. The bar chart reveals a unimodal, left-skewed distribution. The mean is 2019.53, the median is 2020, and the mode is 2020. \n",
    "\n",
    "The large growth from 2010-2020 suggests the growing trend of game development. This is largely due to game development becoming more accessible to the average person, with the release of game engines (Unity, Unreal Engine) and a growing library of assets.\n",
    "\n",
    "The distribution shows a singular peak at 2020, revealing that games were released at an all time in 2020. This can be explained as a consequence of COVID-19, as people became more active on the Internet during this time.\n",
    "\n",
    "The number of games in 2025 is misleading because the dataset is updated to March 2025. This means that there are still many games to be released throughout the year. With the continuing trend of games becoming easier to develop, we can expect that the number of games being released will increase.\n",
    "\n",
    "Additionally, I conducted an analysis on the distribution of the types of criticism found in 10% of all controversial Steam games.  The bar chart revealed a unimodal, right-skewed distribution. Using the median, a criticism type is typically mentioned 3292 times.\n",
    "\n",
    "We can see that 'stability' is the most common criticism in reviews. This suggests that players often go to review because they experience freezes, crashes, or bugs within the game. 'Content' is the next most common criticism, suggesting that the game lacks updates, is boring, or repetitive.\n",
    "\n",
    "Observe that the 'politics' column is one of the least common types of criticism. This means that reviewers often do not include their bias on sensitive topics such as 'woke' or 'gender.'\n",
    "\n",
    "Bivariate Analysis\n",
    "\n",
    "Release Year vs. Price\n",
    "\n",
    "The scatterplot reveals a positive relationship between the year the game was released and the price of the game.\n",
    "\n",
    "\n",
    "\n",
    "Interesting Aggregates\n",
    "\n",
    "I performed an aggregation on the relationship between genres and the types of criticism in reviews. The heatmap reveals that all genres experience 'stability' types of criticism. However, the genres Retro, Visual Novel, and Pixel Graphics have the least amount of 'stability' criticisms. Through this correlation, we can observe that these genres are likely less complex to create. \n",
    "\n",
    "In contrast, the genres Multiplayer, Shooter, and Free to Play have the highest proportion of the 'multiplayer' criticism. While the genre Multiplayer is obvious, we can observe that free to play and shooter games often support multiplayer or co-op, which causes a more complex game. \n",
    "\n",
    "In the 'content' column, we can observe that the genres Visual Novel, Story Rich, Puzzle, Anime, and Colorful have high proportions. We can make a correlation that these genres suffer due to having little content, or being too boring or repetitive.\n",
    "\n",
    "\n",
    "\n",
    "\n",
    "\n",
    "'''\n"
   ]
  },
  {
   "cell_type": "markdown",
   "metadata": {},
   "source": [
    "## Step 3: Assessment of Missingness"
   ]
  },
  {
   "cell_type": "code",
   "execution_count": null,
   "metadata": {
    "ExecuteTime": {
     "end_time": "2019-10-31T23:36:28.662099Z",
     "start_time": "2019-10-31T23:36:28.660016Z"
    }
   },
   "outputs": [
    {
     "name": "stdout",
     "output_type": "stream",
     "text": [
      "appid is of type <class 'str'>\n",
      "name is of type <class 'str'>\n",
      "release_date is of type <class 'str'>\n",
      "required_age is of type <class 'str'>\n",
      "price is of type <class 'str'>\n",
      "dlc_count is of type <class 'str'>\n",
      "detailed_description is of type <class 'str'>\n",
      "about_the_game is of type <class 'str'>\n",
      "short_description is of type <class 'str'>\n",
      "reviews is of type <class 'str'>\n",
      "header_image is of type <class 'str'>\n",
      "website is of type <class 'str'>\n",
      "support_url is of type <class 'str'>\n",
      "support_email is of type <class 'str'>\n",
      "windows is of type <class 'str'>\n",
      "mac is of type <class 'str'>\n",
      "linux is of type <class 'str'>\n",
      "metacritic_score is of type <class 'str'>\n",
      "metacritic_url is of type <class 'str'>\n",
      "achievements is of type <class 'str'>\n",
      "recommendations is of type <class 'str'>\n",
      "notes is of type <class 'str'>\n",
      "supported_languages is of type <class 'str'>\n",
      "full_audio_languages is of type <class 'str'>\n",
      "packages is of type <class 'str'>\n",
      "developers is of type <class 'str'>\n",
      "publishers is of type <class 'str'>\n",
      "categories is of type <class 'str'>\n",
      "genres is of type <class 'str'>\n",
      "screenshots is of type <class 'str'>\n",
      "movies is of type <class 'str'>\n",
      "user_score is of type <class 'str'>\n",
      "score_rank is of type <class 'str'>\n",
      "positive is of type <class 'str'>\n",
      "negative is of type <class 'str'>\n",
      "estimated_owners is of type <class 'str'>\n",
      "average_playtime_forever is of type <class 'str'>\n",
      "average_playtime_2weeks is of type <class 'str'>\n",
      "median_playtime_forever is of type <class 'str'>\n",
      "median_playtime_2weeks is of type <class 'str'>\n",
      "discount is of type <class 'str'>\n",
      "peak_ccu is of type <class 'str'>\n",
      "tags is of type <class 'str'>\n",
      "pct_pos_total is of type <class 'str'>\n",
      "num_reviews_total is of type <class 'str'>\n",
      "pct_pos_recent is of type <class 'str'>\n",
      "num_reviews_recent is of type <class 'str'>\n",
      "['Single-player', 'Multi-player', 'Co-op', 'Shared/Split Screen Co-op', 'Shared/Split Screen', 'Steam Achievements', 'Full controller support', 'Steam Trading Cards', 'Steam Workshop', 'Steam Cloud', 'Remote Play on TV', 'Remote Play Together', 'Family Sharing']\n",
      "nan\n",
      "0\n"
     ]
    }
   ],
   "source": [
    "'''\n",
    "The column 'full_audio_languages' is NMAR because the chance of the value being missing depends on the development budget for the game, which is an unobserved value. Game developers sometimes do not have the resources for voice acting, or the game itself does not require voice acting at all. For example, the old Pokemon games do not have any voice acting done, and is imitated through sound effects.\n",
    "\n",
    "Missing values in the 'notes' column tells us that the game has no sensitive content. For example, games with any blood or gore should have a note saying so. This means that the column is likely NMAR because it depends on the unobserved variable of the contents of the game. However, I have some suspicions that 'notes' is dependent on what kind of genre the game is. For example, horror and action games are more likely to have blood and violence, games tagged with sexual content are more likely to have nudity.\n",
    "\n",
    "Missingness Dependency\n",
    "\n",
    "Permutation Test 1: notes vs. tags\n",
    "\n",
    "I performed permutation tests to determine the dependency of the missingness of the column 'notes' to the column 'tags'.\n",
    "\n",
    "Hypothesis Test: The distribution of 'tags' is the same whether or not 'notes' is missing\n",
    "Alternate Hypothesis: The distribution of 'tags' is different whether or not 'notes is missing\n",
    "Significance Level: 0.1\n",
    "\n",
    "- Observed TVD: 1995.87\n",
    "- P-value: 0.1270\n",
    "\n",
    "Since the p-value is greater than the significance level, we cannot reject the null hypothesis. We can conclude that the missingness of 'notes' is independent to 'tags'\n",
    "\n",
    "Permutation Test 2: notes vs. num_reviews_total\n",
    "\n",
    "Hypothesis Test: The distribution of 'num_reviews_total' is the same whether or not 'notes' is missing\n",
    "Alternate Hypothesis: The distribution of 'tags' is different whether or not 'notes' is missing\n",
    "Significance Level: 0.1\n",
    "\n",
    "- Observed TVD: 6.201174803371181\n",
    "- P-value: 1.0000\n",
    "\n",
    "Because the p-value is greater than the significance level, we cannot reject the null hypothesis. Thus we conclude that the missingness of 'notes' is independent to the total number of reviews.\n",
    "'''"
   ]
  },
  {
   "cell_type": "markdown",
   "metadata": {},
   "source": [
    "## Step 4: Hypothesis Testing"
   ]
  },
  {
   "cell_type": "code",
   "execution_count": null,
   "metadata": {
    "ExecuteTime": {
     "end_time": "2019-10-31T23:36:28.666489Z",
     "start_time": "2019-10-31T23:36:28.664381Z"
    }
   },
   "outputs": [],
   "source": [
    "'''\n",
    "Null Hypothesis: The mean stability ratio is the same across all genres.\n",
    "Alternate Hypothesis: At least one genre has a different mean stability ratio.\n",
    "Test Statistic: F-Statistic\n",
    "Significance Level : 0.05\n",
    "\n",
    "F-Stat: 0.818\n",
    "P-value: 0.999\n",
    "\n",
    "Since the p-value is greater than the significance level, we cannot reject the null hypothesis. This means that mean stability ratio is generally the same across all genres. This suggests that bugs and crashes often are encountered on the same level, on average, through all controversial games.\n",
    "\n",
    "Null Hypothesis: The mean political ratio is the same across all genres.\n",
    "Alternate Hypothesis: At least one genre has a different mean political ratio.\n",
    "\n",
    "F-Stat: 1.01\n",
    "P-value: 0.39\n",
    "\n",
    "Because the p-value is greater than the significance level, we cannot reject the null hypothesis, meaning that the mean politics ratio is generally the same across all genres. However, we must consider that the p-value can go lower if we restrict the release date to only more recent years. This is because the words in the 'politics' category contain words that are used frequently in the recent years. \n",
    "\n",
    "Null Hypothesis: Stability criticism is independent of the game's genre\n",
    "Alternate Hypothesis: Stability criticism is associated with game genre\n",
    "\n",
    "Chi-squared Statistic: 6831.61\n",
    "Degrees of Freedom: 778\n",
    "p-value: 0.0\n",
    "\n",
    "Because the p-value is lower than the significance level, we can reject the null hypothesis. A game's genre is associated with stability criticism.\n",
    "'''"
   ]
  },
  {
   "cell_type": "markdown",
   "metadata": {},
   "source": [
    "## Step 5: Framing a Prediction Problem"
   ]
  },
  {
   "cell_type": "code",
   "execution_count": null,
   "metadata": {
    "ExecuteTime": {
     "end_time": "2019-10-31T23:36:28.657068Z",
     "start_time": "2019-10-31T23:36:28.654650Z"
    }
   },
   "outputs": [],
   "source": [
    "'''\n",
    "Can we predict if a game contains bugs?\n",
    "\n",
    "\n",
    "'''"
   ]
  },
  {
   "cell_type": "markdown",
   "metadata": {},
   "source": [
    "## Step 6: Baseline Model"
   ]
  },
  {
   "cell_type": "code",
   "execution_count": null,
   "metadata": {
    "ExecuteTime": {
     "end_time": "2019-10-31T23:36:28.662099Z",
     "start_time": "2019-10-31T23:36:28.660016Z"
    }
   },
   "outputs": [],
   "source": [
    "# TODO"
   ]
  },
  {
   "cell_type": "markdown",
   "metadata": {},
   "source": [
    "## Step 7: Final Model"
   ]
  },
  {
   "cell_type": "code",
   "execution_count": null,
   "metadata": {
    "ExecuteTime": {
     "end_time": "2019-10-31T23:36:28.662099Z",
     "start_time": "2019-10-31T23:36:28.660016Z"
    }
   },
   "outputs": [],
   "source": [
    "# TODO"
   ]
  },
  {
   "cell_type": "markdown",
   "metadata": {},
   "source": [
    "## Step 8: Fairness Analysis"
   ]
  },
  {
   "cell_type": "code",
   "execution_count": null,
   "metadata": {
    "ExecuteTime": {
     "end_time": "2019-10-31T23:36:28.666489Z",
     "start_time": "2019-10-31T23:36:28.664381Z"
    }
   },
   "outputs": [],
   "source": [
    "# TODO"
   ]
  }
 ],
 "metadata": {
  "kernelspec": {
   "display_name": "dsc80",
   "language": "python",
   "name": "python3"
  },
  "language_info": {
   "codemirror_mode": {
    "name": "ipython",
    "version": 3
   },
   "file_extension": ".py",
   "mimetype": "text/x-python",
   "name": "python",
   "nbconvert_exporter": "python",
   "pygments_lexer": "ipython3",
   "version": "3.12.8"
  }
 },
 "nbformat": 4,
 "nbformat_minor": 2
}
